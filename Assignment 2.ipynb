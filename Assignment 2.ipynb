{
 "cells": [
  {
   "cell_type": "code",
   "execution_count": 33,
   "id": "2a3aaa49",
   "metadata": {},
   "outputs": [],
   "source": [
    "from math import tan, sqrt, atan, pi\n",
    "import random"
   ]
  },
  {
   "cell_type": "markdown",
   "id": "ca57b492",
   "metadata": {},
   "source": [
    "Question 1"
   ]
  },
  {
   "cell_type": "code",
   "execution_count": 2,
   "id": "08966385",
   "metadata": {},
   "outputs": [],
   "source": [
    "from file1 import mat_A\n",
    "from file2 import mat_B\n",
    "from file3 import mat_C\n",
    "from file4 import mat_D\n",
    "\n",
    "def displayMatrix(matrix): #display given matrix\n",
    "    for row in matrix:\n",
    "            print(row)\n",
    "\n",
    "def matrixProduct(A,B): #finds product of two matrices\n",
    "    if len(A[0])==len(B):\n",
    "        C = []\n",
    "        dim_C = (len(A),len(B[0]))\n",
    "        for i in range(dim_C[0]):\n",
    "            row_C = []\n",
    "            for j in range(dim_C[1]):\n",
    "                elem_C = 0\n",
    "                for k in range(len(B)):\n",
    "                    elem_C += (A[i][k])*(B[k][j])\n",
    "                row_C.append(elem_C)\n",
    "            C.append(row_C)\n",
    "        displayMatrix(C)\n",
    "    else:\n",
    "        print(\"Matrix multiplication is undefined for the given matrices!\")\n",
    "        \n",
    "def dotProduct(A,B):  #finds dot product of two matrices\n",
    "    if len(A)==len(B):\n",
    "        A_transpose = []\n",
    "        for k in range(len(A[0])):\n",
    "            row_At = []\n",
    "            for l in range(len(A)):\n",
    "                row_At.append(A[l][k])\n",
    "            A_transpose.append(row_At)\n",
    "        C = []\n",
    "        dim_C = (len(A_transpose),len(B[0]))\n",
    "        for i in range(dim_C[0]):\n",
    "            row_C = []\n",
    "            for j in range(dim_C[1]):\n",
    "                elem_C = 0\n",
    "                for k in range(len(B)):\n",
    "                    elem_C += (A_transpose[i][k])*(B[k][j])\n",
    "                row_C.append(elem_C)\n",
    "            C.append(row_C)\n",
    "        displayMatrix(C)\n",
    "    else:\n",
    "        print(\"Matrix multiplication is undefined for the given matrices!\")"
   ]
  },
  {
   "cell_type": "code",
   "execution_count": 3,
   "id": "613cb2b1",
   "metadata": {},
   "outputs": [
    {
     "name": "stdout",
     "output_type": "stream",
     "text": [
      "[1, 2, 3]\n",
      "[4, 5, 6]\n",
      "[7, 8, 9]\n"
     ]
    }
   ],
   "source": [
    "displayMatrix(mat_A)"
   ]
  },
  {
   "cell_type": "code",
   "execution_count": 4,
   "id": "1c5c7eaf",
   "metadata": {},
   "outputs": [
    {
     "name": "stdout",
     "output_type": "stream",
     "text": [
      "[3, 2, 1]\n",
      "[6, 5, 4]\n",
      "[9, 8, 7]\n"
     ]
    }
   ],
   "source": [
    "displayMatrix(mat_B)"
   ]
  },
  {
   "cell_type": "code",
   "execution_count": 5,
   "id": "59b6de88",
   "metadata": {},
   "outputs": [
    {
     "name": "stdout",
     "output_type": "stream",
     "text": [
      "[1, 2, 3]\n"
     ]
    }
   ],
   "source": [
    "displayMatrix(mat_C)"
   ]
  },
  {
   "cell_type": "code",
   "execution_count": 6,
   "id": "740721c3",
   "metadata": {},
   "outputs": [
    {
     "name": "stdout",
     "output_type": "stream",
     "text": [
      "[30, 20, 10]\n"
     ]
    }
   ],
   "source": [
    "displayMatrix(mat_D)"
   ]
  },
  {
   "cell_type": "code",
   "execution_count": 7,
   "id": "2837436c",
   "metadata": {},
   "outputs": [
    {
     "name": "stdout",
     "output_type": "stream",
     "text": [
      "[30, 20, 10]\n",
      "[60, 40, 20]\n",
      "[90, 60, 30]\n"
     ]
    }
   ],
   "source": [
    "dotProduct(mat_C,mat_D)"
   ]
  },
  {
   "cell_type": "code",
   "execution_count": 8,
   "id": "ccd2e328",
   "metadata": {},
   "outputs": [
    {
     "name": "stdout",
     "output_type": "stream",
     "text": [
      "[42, 36, 30]\n",
      "[96, 81, 66]\n",
      "[150, 126, 102]\n"
     ]
    }
   ],
   "source": [
    "matrixProduct(mat_A,mat_B)"
   ]
  },
  {
   "cell_type": "code",
   "execution_count": 9,
   "id": "5f734d75",
   "metadata": {},
   "outputs": [
    {
     "name": "stdout",
     "output_type": "stream",
     "text": [
      "[30, 36, 42]\n"
     ]
    }
   ],
   "source": [
    "matrixProduct(mat_C,mat_A)"
   ]
  },
  {
   "cell_type": "code",
   "execution_count": 10,
   "id": "1631f920",
   "metadata": {},
   "outputs": [
    {
     "name": "stdout",
     "output_type": "stream",
     "text": [
      "Matrix multiplication is undefined for the given matrices!\n"
     ]
    }
   ],
   "source": [
    "matrixProduct(mat_B,mat_D)"
   ]
  },
  {
   "cell_type": "markdown",
   "id": "d19dcf2e",
   "metadata": {},
   "source": [
    "Question 2"
   ]
  },
  {
   "cell_type": "code",
   "execution_count": 11,
   "id": "5c8861d9",
   "metadata": {},
   "outputs": [],
   "source": [
    "class myComplex:\n",
    "    def initNumber(self): #initiates a myComplex instance, asks for input\n",
    "        self.real = float(input(\"Enter real component of complex number: \"))\n",
    "        self.imag = float(input(\"Enter imaginary component of complex number: \"))\n",
    "        \n",
    "    def display(self):    #displays the instance of myComplex\n",
    "        print(str(self.real) + \" + \" + str(self.imag) + \"i\")\n",
    "\n",
    "    def conjugate(self):  #displays conjugate of myComplex\n",
    "        self.real = self.real\n",
    "        self.imag = -self.imag\n",
    "        print(\"Conjugate of given complex number is: \")\n",
    "        self.display()\n",
    "\n",
    "    def add(self, c1, c2): #adds 2 instances of myComplex\n",
    "        self.real = c1.real + c2.real\n",
    "        self.imag = c1.imag + c2.imag\n",
    "        \n",
    "    def product(self, c1, c2): #multiplies 2 instances of myComplex\n",
    "        self.real = (c1.real)*(c2.real) - (c1.imag)*(c2.imag)\n",
    "        self.imag = (c1.real)*(c2.imag) + (c1.imag)*(c2.real)\n",
    "        \n",
    "    def divide(self, c1, c2): #divides 2 instances of myComplex\n",
    "        self.real = ((c1.real)*(c2.real) \n",
    "                     + (c1.imag)*(c2.imag))/((c2.real)**2 + (c2.imag)**2)\n",
    "        self.imag = ((c1.imag)*(c2.real)\n",
    "                     - (c1.real)*(c2.imag))/((c2.real)**2 + (c2.imag)**2)\n",
    "    \n",
    "    def modulus(self):     #finds modulus of myComplex instance\n",
    "        mod = sqrt((self.real)**2 + (self.imag)**2)\n",
    "        print(\"Modulus of the given complex number is \" + str(mod))\n",
    "\n",
    "    def phase(self):       #finds phase angle of myComplex instance\n",
    "        if (self.real > 0):\n",
    "            print(\"Phase angle of complex number = \" \n",
    "                  + str(atan(self.imag/self.real)) + \" radians\")\n",
    "            \n",
    "        elif (self.real < 0) and (self.imag >= 0):\n",
    "            print(\"Phase angle of complex number = \"\n",
    "                  + str(atan(self.imag/self.real) + pi) + \" radians\")\n",
    "            \n",
    "        elif (self.real < 0) and (self.imag < 0):\n",
    "            print(\"Phase angle of complex number = \" \n",
    "                  + str(atan(self.imag/self.real) - pi) + \" radians\")\n",
    "            \n",
    "        elif (self.real == 0) and (self.imag > 0):\n",
    "            print(\"Phase angle of complex number = \"\n",
    "                  + str(pi/2) + \" radians\")\n",
    "            \n",
    "        elif (self.real == 0) and (self.imag < 0):\n",
    "            print(\"Phase angle of complex number = \"\n",
    "                  + str(-pi/2) + \" radians\")\n",
    "            \n",
    "        else:\n",
    "            print(\"Phase angle of given complex number is undefined\")"
   ]
  },
  {
   "cell_type": "code",
   "execution_count": 12,
   "id": "1f7c2646",
   "metadata": {},
   "outputs": [],
   "source": [
    "#7 instances of myComplex are initiated\n",
    "#4 of them are initiated with values\n",
    "z1 = myComplex()\n",
    "z2 = myComplex()\n",
    "z3 = myComplex()\n",
    "z4 = myComplex()\n",
    "#the last 3 are obtained from computations with previous 4 instances\n",
    "z5 = myComplex()\n",
    "z6 = myComplex()\n",
    "z7 = myComplex()"
   ]
  },
  {
   "cell_type": "code",
   "execution_count": 13,
   "id": "19680195",
   "metadata": {},
   "outputs": [
    {
     "name": "stdout",
     "output_type": "stream",
     "text": [
      "Enter real component of complex number: 1.5\n",
      "Enter imaginary component of complex number: 4.5\n"
     ]
    }
   ],
   "source": [
    "z1.initNumber()"
   ]
  },
  {
   "cell_type": "code",
   "execution_count": 14,
   "id": "8cafd9e4",
   "metadata": {},
   "outputs": [
    {
     "name": "stdout",
     "output_type": "stream",
     "text": [
      "Enter real component of complex number: 5\n",
      "Enter imaginary component of complex number: -2\n"
     ]
    }
   ],
   "source": [
    "z2.initNumber()"
   ]
  },
  {
   "cell_type": "code",
   "execution_count": 15,
   "id": "dabebda2",
   "metadata": {},
   "outputs": [
    {
     "name": "stdout",
     "output_type": "stream",
     "text": [
      "Enter real component of complex number: 0\n",
      "Enter imaginary component of complex number: 2\n"
     ]
    }
   ],
   "source": [
    "z3.initNumber()"
   ]
  },
  {
   "cell_type": "code",
   "execution_count": 16,
   "id": "db0390f0",
   "metadata": {},
   "outputs": [
    {
     "name": "stdout",
     "output_type": "stream",
     "text": [
      "Enter real component of complex number: 3.5\n",
      "Enter imaginary component of complex number: 0\n"
     ]
    }
   ],
   "source": [
    "z4.initNumber()"
   ]
  },
  {
   "cell_type": "code",
   "execution_count": 17,
   "id": "5ea62c83",
   "metadata": {},
   "outputs": [
    {
     "name": "stdout",
     "output_type": "stream",
     "text": [
      "1.5 + 4.5i\n",
      "5.0 + -2.0i\n",
      "0.0 + 2.0i\n",
      "3.5 + 0.0i\n"
     ]
    },
    {
     "data": {
      "text/plain": [
       "(None, None, None, None)"
      ]
     },
     "execution_count": 17,
     "metadata": {},
     "output_type": "execute_result"
    }
   ],
   "source": [
    "z1.display(),z2.display(),z3.display(),z4.display()"
   ]
  },
  {
   "cell_type": "code",
   "execution_count": 18,
   "id": "d0687d3b",
   "metadata": {},
   "outputs": [
    {
     "name": "stdout",
     "output_type": "stream",
     "text": [
      "6.5 + 2.5i\n"
     ]
    },
    {
     "data": {
      "text/plain": [
       "(None, None)"
      ]
     },
     "execution_count": 18,
     "metadata": {},
     "output_type": "execute_result"
    }
   ],
   "source": [
    "z5.add(z1,z2),z5.display()"
   ]
  },
  {
   "cell_type": "code",
   "execution_count": 19,
   "id": "b9272af7",
   "metadata": {},
   "outputs": [
    {
     "name": "stdout",
     "output_type": "stream",
     "text": [
      "-9.0 + 3.0i\n"
     ]
    },
    {
     "data": {
      "text/plain": [
       "(None, None)"
      ]
     },
     "execution_count": 19,
     "metadata": {},
     "output_type": "execute_result"
    }
   ],
   "source": [
    "z6.product(z1,z3),z6.display()"
   ]
  },
  {
   "cell_type": "code",
   "execution_count": 20,
   "id": "13676b2e",
   "metadata": {},
   "outputs": [
    {
     "name": "stdout",
     "output_type": "stream",
     "text": [
      "0.42857142857142855 + 1.2857142857142858i\n"
     ]
    },
    {
     "data": {
      "text/plain": [
       "(None, None)"
      ]
     },
     "execution_count": 20,
     "metadata": {},
     "output_type": "execute_result"
    }
   ],
   "source": [
    "z7.divide(z1,z4),z7.display()"
   ]
  },
  {
   "cell_type": "code",
   "execution_count": 21,
   "id": "18c50fb9",
   "metadata": {},
   "outputs": [
    {
     "name": "stdout",
     "output_type": "stream",
     "text": [
      "Conjugate of given complex number is: \n",
      "1.5 + -4.5i\n"
     ]
    }
   ],
   "source": [
    "z1.conjugate()"
   ]
  },
  {
   "cell_type": "code",
   "execution_count": 22,
   "id": "8e130b4d",
   "metadata": {},
   "outputs": [
    {
     "name": "stdout",
     "output_type": "stream",
     "text": [
      "Modulus of the given complex number is 4.743416490252569\n"
     ]
    }
   ],
   "source": [
    "z1.modulus()"
   ]
  },
  {
   "cell_type": "code",
   "execution_count": 23,
   "id": "b8cfc110",
   "metadata": {},
   "outputs": [
    {
     "name": "stdout",
     "output_type": "stream",
     "text": [
      "Phase angle of complex number = -1.2490457723982544 radians\n"
     ]
    }
   ],
   "source": [
    "z1.phase()"
   ]
  },
  {
   "cell_type": "markdown",
   "id": "8a2577e7",
   "metadata": {},
   "source": [
    "Question 3"
   ]
  },
  {
   "cell_type": "code",
   "execution_count": 24,
   "id": "374d8df6",
   "metadata": {},
   "outputs": [],
   "source": [
    "def avgDistance(N): #finds average distances between N discrete points\n",
    "    if N <= 1: #less/equal to 1 eliminated\n",
    "        print(\"Please enter a natural number greater than 1\")\n",
    "    elif N%1 != 0: #fractional numbers eliminated\n",
    "        print(\"Please enter a natural number greater than 1\")\n",
    "    else:\n",
    "        s = 0\n",
    "        list = []\n",
    "    \n",
    "        for i in range(N):\n",
    "            s+=i\n",
    "        m = s\n",
    "    \n",
    "        for j in range(1, N):\n",
    "            m += j - (N - j)\n",
    "            list.append(m)\n",
    "        list.append(s)\n",
    "        x = 0\n",
    "    \n",
    "        for k in range(0, len(list)):\n",
    "            x += list[k]\n",
    "    \n",
    "        dist = x/(N*N)\n",
    "    \n",
    "        print(\"Average distance between 2 points on a line with\")\n",
    "        print(str(N) + \" discrete points is \" + str(dist))"
   ]
  },
  {
   "cell_type": "code",
   "execution_count": 25,
   "id": "a713c0cc",
   "metadata": {},
   "outputs": [
    {
     "name": "stdout",
     "output_type": "stream",
     "text": [
      "Average distance between 2 points on a line with\n",
      "2 discrete points is 0.5\n"
     ]
    }
   ],
   "source": [
    "avgDistance(2)"
   ]
  },
  {
   "cell_type": "code",
   "execution_count": 26,
   "id": "fa9c3b82",
   "metadata": {},
   "outputs": [
    {
     "name": "stdout",
     "output_type": "stream",
     "text": [
      "Average distance between 2 points on a line with\n",
      "10 discrete points is 3.3\n"
     ]
    }
   ],
   "source": [
    "avgDistance(10)"
   ]
  },
  {
   "cell_type": "code",
   "execution_count": 27,
   "id": "68fbb251",
   "metadata": {},
   "outputs": [
    {
     "name": "stdout",
     "output_type": "stream",
     "text": [
      "Please enter a natural number greater than 1\n"
     ]
    }
   ],
   "source": [
    "avgDistance(5.5)"
   ]
  },
  {
   "cell_type": "code",
   "execution_count": 28,
   "id": "9bb15037",
   "metadata": {},
   "outputs": [
    {
     "name": "stdout",
     "output_type": "stream",
     "text": [
      "Please enter a natural number greater than 1\n"
     ]
    }
   ],
   "source": [
    "avgDistance(-2)"
   ]
  },
  {
   "cell_type": "code",
   "execution_count": 29,
   "id": "0adb9e9b",
   "metadata": {},
   "outputs": [
    {
     "name": "stdout",
     "output_type": "stream",
     "text": [
      "Please enter a natural number greater than 1\n"
     ]
    }
   ],
   "source": [
    "avgDistance(1)"
   ]
  },
  {
   "cell_type": "markdown",
   "id": "e57ff898",
   "metadata": {},
   "source": [
    "Question 4"
   ]
  },
  {
   "cell_type": "code",
   "execution_count": 35,
   "id": "42b7abc8",
   "metadata": {},
   "outputs": [],
   "source": [
    "#capitals of the 24 countries qualified for FIFA 2019 Women's World Cup\n",
    "capitals =['paris', 'washington dc', 'berlin', 'london',\n",
    "           'ottawa', 'canberra', 'amsterdam', 'tokyo',\n",
    "           'stockholm', 'brasilia', 'madrid', 'oslo',\n",
    "           'seoul', 'beijing', 'rome', 'auckland', 'edinburgh',\n",
    "           'bangkok', 'buenos aires', 'santiago', 'abuja',\n",
    "           'yaounde', 'cape town', 'kingston']\n",
    "\n",
    "def displayStatus(string): #displays current state of the game\n",
    "    for char in string:\n",
    "        print(char, end=\" \")\n",
    "\n",
    "def updateWordState(corr_state,state,guessed): #revises state\n",
    "    new_state = []\n",
    "    for i in range(len(state)):\n",
    "        if corr_state[i]==guessed:\n",
    "            new_state.append(guessed)\n",
    "        elif corr_state[i]==state[i]:\n",
    "            new_state.append(state[i])\n",
    "        elif corr_state[i]==\" \":\n",
    "            new_state.append(\" \")\n",
    "        else:\n",
    "            new_state.append(\"_\")\n",
    "    return new_state\n",
    "    \n",
    "def setLives(string): #obtains number of chances available\n",
    "    if len(string)<5: #if word is smaller than 5 letters\n",
    "        return 2      #then min number of chances is 2\n",
    "    else: #closest integer to 40% of string length is chosen\n",
    "        return int(0.4*len(string)) \n",
    "\n",
    "def checkWin(string1,string2):#checks if correct state and\n",
    "    count = 0                 #current state of the game are equal\n",
    "    for m in range(len(string1)):\n",
    "        if string1[m]==string2[m]:\n",
    "            count+=1\n",
    "    if count==len(string1):\n",
    "        return 1\n",
    "    else:\n",
    "        return 0\n",
    "\n",
    "def playHangman(): #initiates a game of Hangman\n",
    "    lowercase = 'abcdefghijklmnopqrstuvwxyz' #lowercase alphabet\n",
    "    print(\"Welcome! Let's play a game of Hangman!\")\n",
    "    decision = input(\"Enter 'y' to start a new round: \")\n",
    "    \n",
    "    #game is started only on affirmative input\n",
    "    while decision == 'y' or decision == 'Y': \n",
    "        random.seed(a=None, version=2) #to randomise choice each time\n",
    "        word = random.choice(capitals) \n",
    "        guess_list = []\n",
    "        correct_guess = []\n",
    "        win=False\n",
    "        \n",
    "        available_lives = setLives(word)\n",
    "        \n",
    "        word_state = []    #current state of game\n",
    "        correct_state = [] #state needed to win\n",
    "        for letter in word:\n",
    "            if letter == \" \":\n",
    "                word_state.append(\" \")\n",
    "                correct_state.append(\" \")\n",
    "            else:\n",
    "                word_state.append(\"_\")\n",
    "                correct_state.append(letter)\n",
    "              \n",
    "        print()\n",
    "        print(\"The word for this round is: \")\n",
    "        displayStatus(word_state) #shows word with dashes and spaces\n",
    "        print()\n",
    "        print(\"You have \" + str(available_lives) + \" wrong guesses to start with.\")\n",
    "        \n",
    "        \n",
    "        while available_lives!=0 and win!=True: #\n",
    "            guess = input(\"Guess a letter in the name of the city: \")\n",
    "            guess = guess.lower()    #all inputs are converted to lowercase\n",
    "            guess_list.append(guess)\n",
    "            if (guess in correct_state) and (guess in lowercase) and (guess not in correct_guess):\n",
    "                #letter is added to current state only if \n",
    "                #above 3 conditions are satisfied\n",
    "                print(\"Yay! That letter is in the name of the city!\")\n",
    "                word_state = updateWordState(correct_state,word_state,guess)\n",
    "                #current state is updated with correct letters\n",
    "                correct_guess.append(guess) #repeated letters kept in memory\n",
    "                if checkWin(correct_state,word_state)==1: #checks current state for win condition\n",
    "                    print(\"Congratulations! You won the round!\")\n",
    "                    win=True\n",
    "            elif guess in correct_guess: #repeated letters excluded\n",
    "                print(\"Uh oh. That letter has already been guessed correctly!\")\n",
    "            else: \n",
    "                #applies decrement to number of\n",
    "                #chances left in case of failed guess\n",
    "                print(\"Sorry :( That letter is not in the name of the city!\")\n",
    "                available_lives = available_lives - 1\n",
    "                print(\"You have \" + str(available_lives) + \" wrong guesses left!\") \n",
    "                    \n",
    "            displayStatus(word_state) #shows updated current state\n",
    "            print()\n",
    "            print()\n",
    "        \n",
    "        if available_lives==0:\n",
    "            #provides a game over message to the user upon\n",
    "            #exit from the while loop due to 0 chances left\n",
    "            print(\"Tough luck :( You lost the game.\")\n",
    "            print(\"The city's name is: \" + str(word))\n",
    "        \n",
    "        print(\"Do you want to start another round?\")\n",
    "        #repeats the outer while loop to continue/stop playing\n",
    "        decision = input(\"Enter 'y' to start a new round: \")\n",
    "    \n",
    "    print()\n",
    "    print(\"Ah, you must be busy. Maybe another time!\")"
   ]
  },
  {
   "cell_type": "code",
   "execution_count": 37,
   "id": "091a96c2",
   "metadata": {},
   "outputs": [
    {
     "name": "stdout",
     "output_type": "stream",
     "text": [
      "Welcome! Let's play a game of Hangman!\n",
      "Enter 'y' to start a new round: y\n",
      "\n",
      "The word for this round is: \n",
      "_ _ _ _ _ \n",
      "You have 2 wrong guesses to start with.\n",
      "Guess a letter in the name of the city: P\n",
      "Yay! That letter is in the name of the city!\n",
      "p _ _ _ _ \n",
      "\n",
      "Guess a letter in the name of the city: %\n",
      "Sorry :( That letter is not in the name of the city!\n",
      "You have 1 wrong guesses left!\n",
      "p _ _ _ _ \n",
      "\n",
      "Guess a letter in the name of the city: r\n",
      "Yay! That letter is in the name of the city!\n",
      "p _ r _ _ \n",
      "\n",
      "Guess a letter in the name of the city: s\n",
      "Yay! That letter is in the name of the city!\n",
      "p _ r _ s \n",
      "\n",
      "Guess a letter in the name of the city: i\n",
      "Yay! That letter is in the name of the city!\n",
      "p _ r i s \n",
      "\n",
      "Guess a letter in the name of the city: a\n",
      "Yay! That letter is in the name of the city!\n",
      "Congratulations! You won the round!\n",
      "p a r i s \n",
      "\n",
      "Do you want to start another round?\n",
      "Enter 'y' to start a new round: n\n",
      "\n",
      "Ah, you must be busy. Maybe another time!\n"
     ]
    }
   ],
   "source": [
    "playHangman()"
   ]
  },
  {
   "cell_type": "code",
   "execution_count": 48,
   "id": "b054c71a",
   "metadata": {},
   "outputs": [
    {
     "name": "stdout",
     "output_type": "stream",
     "text": [
      "Welcome! Let's play a game of Hangman!\n",
      "Enter 'y' to start a new round: y\n",
      "\n",
      "The word for this round is: \n",
      "_ _ _ _ _ _ _ _ \n",
      "You have 3 wrong guesses to start with.\n",
      "Guess a letter in the name of the city: a\n",
      "Yay! That letter is in the name of the city!\n",
      "_ a _ _ _ a _ _ \n",
      "\n",
      "Guess a letter in the name of the city: I\n",
      "Yay! That letter is in the name of the city!\n",
      "_ a _ _ i a _ _ \n",
      "\n",
      "Guess a letter in the name of the city: 6\n",
      "Sorry :( That letter is not in the name of the city!\n",
      "You have 2 wrong guesses left!\n",
      "_ a _ _ i a _ _ \n",
      "\n",
      "Guess a letter in the name of the city: G\n",
      "Yay! That letter is in the name of the city!\n",
      "_ a _ _ i a g _ \n",
      "\n",
      "Guess a letter in the name of the city: s\n",
      "Yay! That letter is in the name of the city!\n",
      "s a _ _ i a g _ \n",
      "\n",
      "Guess a letter in the name of the city: N\n",
      "Yay! That letter is in the name of the city!\n",
      "s a n _ i a g _ \n",
      "\n",
      "Guess a letter in the name of the city: t\n",
      "Yay! That letter is in the name of the city!\n",
      "s a n t i a g _ \n",
      "\n",
      "Guess a letter in the name of the city: O\n",
      "Yay! That letter is in the name of the city!\n",
      "Congratulations! You won the round!\n",
      "s a n t i a g o \n",
      "\n",
      "Do you want to start another round?\n",
      "Enter 'y' to start a new round: n\n",
      "\n",
      "Ah, you must be busy. Maybe another time!\n"
     ]
    }
   ],
   "source": [
    "playHangman()"
   ]
  },
  {
   "cell_type": "code",
   "execution_count": 49,
   "id": "817469bc",
   "metadata": {},
   "outputs": [
    {
     "name": "stdout",
     "output_type": "stream",
     "text": [
      "Welcome! Let's play a game of Hangman!\n",
      "Enter 'y' to start a new round: no\n",
      "\n",
      "Ah, you must be busy. Maybe another time!\n"
     ]
    }
   ],
   "source": [
    "playHangman()"
   ]
  },
  {
   "cell_type": "code",
   "execution_count": 50,
   "id": "9169698a",
   "metadata": {},
   "outputs": [
    {
     "name": "stdout",
     "output_type": "stream",
     "text": [
      "Welcome! Let's play a game of Hangman!\n",
      "Enter 'y' to start a new round: y\n",
      "\n",
      "The word for this round is: \n",
      "_ _ _ _ _ _   _ _ _ _ _ \n",
      "You have 4 wrong guesses to start with.\n",
      "Guess a letter in the name of the city: b\n",
      "Yay! That letter is in the name of the city!\n",
      "b _ _ _ _ _   _ _ _ _ _ \n",
      "\n",
      "Guess a letter in the name of the city: E\n",
      "Yay! That letter is in the name of the city!\n",
      "b _ e _ _ _   _ _ _ e _ \n",
      "\n",
      "Guess a letter in the name of the city: n\n",
      "Yay! That letter is in the name of the city!\n",
      "b _ e n _ _   _ _ _ e _ \n",
      "\n",
      "Guess a letter in the name of the city: O\n",
      "Yay! That letter is in the name of the city!\n",
      "b _ e n o _   _ _ _ e _ \n",
      "\n",
      "Guess a letter in the name of the city: o\n",
      "Uh oh. That letter has already been guessed correctly!\n",
      "b _ e n o _   _ _ _ e _ \n",
      "\n",
      "Guess a letter in the name of the city: s\n",
      "Yay! That letter is in the name of the city!\n",
      "b _ e n o s   _ _ _ e s \n",
      "\n",
      "Guess a letter in the name of the city: e\n",
      "Uh oh. That letter has already been guessed correctly!\n",
      "b _ e n o s   _ _ _ e s \n",
      "\n",
      "Guess a letter in the name of the city: i\n",
      "Yay! That letter is in the name of the city!\n",
      "b _ e n o s   _ i _ e s \n",
      "\n",
      "Guess a letter in the name of the city: u\n",
      "Yay! That letter is in the name of the city!\n",
      "b u e n o s   _ i _ e s \n",
      "\n",
      "Guess a letter in the name of the city: u\n",
      "Uh oh. That letter has already been guessed correctly!\n",
      "b u e n o s   _ i _ e s \n",
      "\n",
      "Guess a letter in the name of the city: a\n",
      "Yay! That letter is in the name of the city!\n",
      "b u e n o s   a i _ e s \n",
      "\n",
      "Guess a letter in the name of the city: w\n",
      "Sorry :( That letter is not in the name of the city!\n",
      "You have 3 wrong guesses left!\n",
      "b u e n o s   a i _ e s \n",
      "\n",
      "Guess a letter in the name of the city: t\n",
      "Sorry :( That letter is not in the name of the city!\n",
      "You have 2 wrong guesses left!\n",
      "b u e n o s   a i _ e s \n",
      "\n",
      "Guess a letter in the name of the city: k\n",
      "Sorry :( That letter is not in the name of the city!\n",
      "You have 1 wrong guesses left!\n",
      "b u e n o s   a i _ e s \n",
      "\n",
      "Guess a letter in the name of the city: r\n",
      "Yay! That letter is in the name of the city!\n",
      "Congratulations! You won the round!\n",
      "b u e n o s   a i r e s \n",
      "\n",
      "Do you want to start another round?\n",
      "Enter 'y' to start a new round: n\n",
      "\n",
      "Ah, you must be busy. Maybe another time!\n"
     ]
    }
   ],
   "source": [
    "playHangman()"
   ]
  },
  {
   "cell_type": "code",
   "execution_count": 53,
   "id": "58bb5c13",
   "metadata": {},
   "outputs": [
    {
     "name": "stdout",
     "output_type": "stream",
     "text": [
      "Welcome! Let's play a game of Hangman!\n",
      "Enter 'y' to start a new round: y\n",
      "\n",
      "The word for this round is: \n",
      "_ _ _ _ \n",
      "You have 2 wrong guesses to start with.\n",
      "Guess a letter in the name of the city: o\n",
      "Yay! That letter is in the name of the city!\n",
      "_ o _ _ \n",
      "\n",
      "Guess a letter in the name of the city: r\n",
      "Yay! That letter is in the name of the city!\n",
      "r o _ _ \n",
      "\n",
      "Guess a letter in the name of the city: m\n",
      "Yay! That letter is in the name of the city!\n",
      "r o m _ \n",
      "\n",
      "Guess a letter in the name of the city: e\n",
      "Yay! That letter is in the name of the city!\n",
      "Congratulations! You won the round!\n",
      "r o m e \n",
      "\n",
      "Do you want to start another round?\n",
      "Enter 'y' to start a new round: y\n",
      "\n",
      "The word for this round is: \n",
      "_ _ _ _ _ \n",
      "You have 2 wrong guesses to start with.\n",
      "Guess a letter in the name of the city: r\n",
      "Sorry :( That letter is not in the name of the city!\n",
      "You have 1 wrong guesses left!\n",
      "_ _ _ _ _ \n",
      "\n",
      "Guess a letter in the name of the city: o\n",
      "Sorry :( That letter is not in the name of the city!\n",
      "You have 0 wrong guesses left!\n",
      "_ _ _ _ _ \n",
      "\n",
      "Tough luck :( You lost the game.\n",
      "The city's name is: abuja\n",
      "Do you want to start another round?\n",
      "Enter 'y' to start a new round: y\n",
      "\n",
      "The word for this round is: \n",
      "_ _ _ _ _ \n",
      "You have 2 wrong guesses to start with.\n",
      "Guess a letter in the name of the city: o\n",
      "Sorry :( That letter is not in the name of the city!\n",
      "You have 1 wrong guesses left!\n",
      "_ _ _ _ _ \n",
      "\n",
      "Guess a letter in the name of the city: b\n",
      "Yay! That letter is in the name of the city!\n",
      "_ b _ _ _ \n",
      "\n",
      "Guess a letter in the name of the city: u\n",
      "Yay! That letter is in the name of the city!\n",
      "_ b u _ _ \n",
      "\n",
      "Guess a letter in the name of the city: j\n",
      "Yay! That letter is in the name of the city!\n",
      "_ b u j _ \n",
      "\n",
      "Guess a letter in the name of the city: a\n",
      "Yay! That letter is in the name of the city!\n",
      "Congratulations! You won the round!\n",
      "a b u j a \n",
      "\n",
      "Do you want to start another round?\n",
      "Enter 'y' to start a new round: n\n",
      "\n",
      "Ah, you must be busy. Maybe another time!\n"
     ]
    }
   ],
   "source": [
    "playHangman()"
   ]
  }
 ],
 "metadata": {
  "kernelspec": {
   "display_name": "Python 3",
   "language": "python",
   "name": "python3"
  },
  "language_info": {
   "codemirror_mode": {
    "name": "ipython",
    "version": 3
   },
   "file_extension": ".py",
   "mimetype": "text/x-python",
   "name": "python",
   "nbconvert_exporter": "python",
   "pygments_lexer": "ipython3",
   "version": "3.7.10"
  }
 },
 "nbformat": 4,
 "nbformat_minor": 5
}
